{
 "cells": [
  {
   "cell_type": "code",
   "execution_count": null,
   "id": "803331bb-9db8-457d-997f-47aa7db913b5",
   "metadata": {},
   "outputs": [],
   "source": [
    "import os\n",
    "os.environ['TF_CPP_MIN_LOG_LEVEL'] = '2' # Disables INFO & WARNING logs\n",
    "import tensorflow as tf\n",
    "import keras\n",
    "from maptd_model import maptd_model"
   ]
  },
  {
   "cell_type": "code",
   "execution_count": null,
   "id": "5fd891dd-35d6-465b-99b7-c9e869f373e7",
   "metadata": {},
   "outputs": [],
   "source": [
    "modelpath = 'D:/Gerasimos/Toponym_Recognition/MapTD_General/MapTD_TF2/data/ckpts/models/0/saved_model'"
   ]
  },
  {
   "cell_type": "code",
   "execution_count": null,
   "id": "de2f7761-2b7f-49a9-8f03-9f7f9577dba5",
   "metadata": {},
   "outputs": [],
   "source": [
    "model = keras.models.load_model(modelpath)\n",
    "#model = maptd_model(input_size=512)"
   ]
  },
  {
   "cell_type": "code",
   "execution_count": null,
   "id": "d4784ac6-ff1b-4046-b4b7-c090d85635f5",
   "metadata": {},
   "outputs": [],
   "source": [
    "model_config = model.get_config()"
   ]
  },
  {
   "cell_type": "code",
   "execution_count": null,
   "id": "47e7d1a6-0f27-406e-9e3c-8274ec20f711",
   "metadata": {},
   "outputs": [],
   "source": [
    "input_layer_name = model_config['layers'][0]['name']"
   ]
  },
  {
   "cell_type": "code",
   "execution_count": null,
   "id": "6f079ea3-b308-4bce-82f4-cd7dc68958ea",
   "metadata": {},
   "outputs": [],
   "source": [
    "model_config['layers'][0]\n",
    "model_config['layers'][0] = {\n",
    "                      'name': 'new_input',\n",
    "                      'class_name': 'InputLayer',\n",
    "                      'config': {\n",
    "                          'batch_input_shape': (None, None, None, 3),\n",
    "                          'dtype': 'float32',\n",
    "                          'sparse': False,\n",
    "                          'name': 'new_input'\n",
    "                      },\n",
    "                      'inbound_nodes': []\n",
    "                  }\n",
    "\n",
    "model_config['layers'][1]['inbound_nodes'] = [[['new_input', 0, 0, {}]]]\n",
    "model_config['input_layers'] = [['new_input', 0, 0]]\n",
    "model_config['layers'][-5]['config']['activation'] = tf.atan # NOTE: I added this modification, because I forgot to add the tf.atan as a custom object of keras when I created the model\n",
    "new_model = model.__class__.from_config(model_config, custom_objects={})  # change custom objects if necessary"
   ]
  },
  {
   "cell_type": "code",
   "execution_count": null,
   "id": "0cfd629f-981f-41ee-8ee2-e2f8580b257d",
   "metadata": {},
   "outputs": [],
   "source": [
    "# iterate over all the layers that we want to get weights from\n",
    "weights = [layer.get_weights() for layer in model.layers[1:]]\n",
    "for layer, weight in zip(new_model.layers[1:], weights):\n",
    "    layer.set_weights(weight)"
   ]
  },
  {
   "cell_type": "code",
   "execution_count": null,
   "id": "2f9aad58-beb3-4cb3-a4d2-89dda108c9d4",
   "metadata": {},
   "outputs": [],
   "source": [
    "from utils import center_crop\n",
    "import matplotlib.pyplot as plt\n",
    "import numpy as np"
   ]
  },
  {
   "cell_type": "code",
   "execution_count": null,
   "id": "efadc91c-17c8-470c-b3ba-a9d02101f93e",
   "metadata": {},
   "outputs": [],
   "source": [
    "img = np.expand_dims(plt.imread('D:/Gerasimos/D5005-5028149.tiff'), axis=0)\n",
    "img = center_crop(img, crop_shape=(2560, 2560))"
   ]
  },
  {
   "cell_type": "code",
   "execution_count": null,
   "id": "efd32c2d-ac56-4562-8481-25be261aa33c",
   "metadata": {},
   "outputs": [],
   "source": [
    "p = new_model(img, training=False)"
   ]
  },
  {
   "cell_type": "code",
   "execution_count": null,
   "id": "134f9067-af9f-45e2-a2bf-aee876c1bd83",
   "metadata": {},
   "outputs": [],
   "source": [
    "plt.imshow(np.where(p[0][0] > 0.8, 1, 0), cmap='gray')\n",
    "plt.show()"
   ]
  },
  {
   "cell_type": "code",
   "execution_count": null,
   "id": "c2814978-5dbd-4eb3-824a-e73ef70a08ea",
   "metadata": {},
   "outputs": [],
   "source": []
  }
 ],
 "metadata": {
  "kernelspec": {
   "display_name": "deepenv",
   "language": "python",
   "name": "deepenv"
  },
  "language_info": {
   "codemirror_mode": {
    "name": "ipython",
    "version": 3
   },
   "file_extension": ".py",
   "mimetype": "text/x-python",
   "name": "python",
   "nbconvert_exporter": "python",
   "pygments_lexer": "ipython3",
   "version": "3.10.6"
  }
 },
 "nbformat": 4,
 "nbformat_minor": 5
}
