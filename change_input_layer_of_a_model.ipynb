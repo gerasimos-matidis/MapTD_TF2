{
 "cells": [
  {
   "cell_type": "code",
   "execution_count": 1,
   "id": "803331bb-9db8-457d-997f-47aa7db913b5",
   "metadata": {},
   "outputs": [],
   "source": [
    "import os\n",
    "os.environ['TF_CPP_MIN_LOG_LEVEL'] = '2' # Disables INFO & WARNING logs\n",
    "import tensorflow as tf\n",
    "import keras\n",
    "import numpy as np\n",
    "from utils import center_crop\n",
    "import matplotlib.pyplot as plt\n",
    "from maptd_model import maptd_model"
   ]
  },
  {
   "cell_type": "code",
   "execution_count": 2,
   "id": "dd7f63d6-8e69-4580-87ac-6a82d6ad2ac4",
   "metadata": {},
   "outputs": [
    {
     "name": "stdout",
     "output_type": "stream",
     "text": [
      "./data/ckpts/models/0/gan_ckpts/ckpt-37\n"
     ]
    },
    {
     "data": {
      "text/plain": [
       "<tensorflow.python.checkpoint.checkpoint.CheckpointLoadStatus at 0x7f13e057c070>"
      ]
     },
     "execution_count": 2,
     "metadata": {},
     "output_type": "execute_result"
    }
   ],
   "source": [
    "model = maptd_model(input_shape=(512, 512, 3))\n",
    "\n",
    "ckpt_dir = './data/ckpts/models/0/gan_ckpts'\n",
    "latest = tf.train.latest_checkpoint(ckpt_dir)\n",
    "print(latest)\n",
    "ckpt_prefix = os.path.join(ckpt_dir, 'ckpt')\n",
    "ckpt = tf.train.Checkpoint(model=model)\n",
    "ckpt.restore(latest)\n"
   ]
  },
  {
   "cell_type": "code",
   "execution_count": 9,
   "id": "5fd891dd-35d6-465b-99b7-c9e869f373e7",
   "metadata": {},
   "outputs": [],
   "source": [
    "modelpath = './data/ckpts/models/0/gan_modified'"
   ]
  },
  {
   "cell_type": "code",
   "execution_count": null,
   "id": "de2f7761-2b7f-49a9-8f03-9f7f9577dba5",
   "metadata": {},
   "outputs": [],
   "source": [
    "model = keras.models.load_model(modelpath)\n",
    "#model = maptd_model(input_size=512)"
   ]
  },
  {
   "cell_type": "code",
   "execution_count": 4,
   "id": "d4784ac6-ff1b-4046-b4b7-c090d85635f5",
   "metadata": {},
   "outputs": [],
   "source": [
    "model_config = model.get_config()"
   ]
  },
  {
   "cell_type": "code",
   "execution_count": 5,
   "id": "47e7d1a6-0f27-406e-9e3c-8274ec20f711",
   "metadata": {},
   "outputs": [],
   "source": [
    "input_layer_name = model_config['layers'][0]['name']"
   ]
  },
  {
   "cell_type": "code",
   "execution_count": 6,
   "id": "6f079ea3-b308-4bce-82f4-cd7dc68958ea",
   "metadata": {},
   "outputs": [],
   "source": [
    "model_config['layers'][0]\n",
    "model_config['layers'][0] = {\n",
    "                      'name': 'new_input',\n",
    "                      'class_name': 'InputLayer',\n",
    "                      'config': {\n",
    "                          'batch_input_shape': (None, None, None, 3),\n",
    "                          'dtype': 'float32',\n",
    "                          'sparse': False,\n",
    "                          'name': 'new_input'\n",
    "                      },\n",
    "                      'inbound_nodes': []\n",
    "                  }\n",
    "\n",
    "model_config['layers'][1]['inbound_nodes'] = [[['new_input', 0, 0, {}]]]\n",
    "model_config['input_layers'] = [['new_input', 0, 0]]\n",
    "model_config['layers'][-5]['config']['activation'] = tf.atan # NOTE: I added this modification, because I forgot to add the tf.atan as a custom object of keras when I created the model\n",
    "new_model = model.__class__.from_config(model_config, custom_objects={})  # change custom objects if necessary"
   ]
  },
  {
   "cell_type": "code",
   "execution_count": 7,
   "id": "0cfd629f-981f-41ee-8ee2-e2f8580b257d",
   "metadata": {},
   "outputs": [],
   "source": [
    "# iterate over all the layers that we want to get weights from\n",
    "weights = [layer.get_weights() for layer in model.layers[1:]]\n",
    "for layer, weight in zip(new_model.layers[1:], weights):\n",
    "    layer.set_weights(weight)"
   ]
  },
  {
   "cell_type": "code",
   "execution_count": 10,
   "id": "30d1edd5-d5bf-4f72-be0b-b5a356da68cb",
   "metadata": {},
   "outputs": [
    {
     "name": "stdout",
     "output_type": "stream",
     "text": [
      "WARNING:tensorflow:Compiled the loaded model, but the compiled metrics have yet to be built. `model.compile_metrics` will be empty until you train or evaluate the model.\n"
     ]
    },
    {
     "name": "stderr",
     "output_type": "stream",
     "text": [
      "WARNING:tensorflow:Compiled the loaded model, but the compiled metrics have yet to be built. `model.compile_metrics` will be empty until you train or evaluate the model.\n",
      "WARNING:absl:Found untraced functions such as _jit_compiled_convolution_op, _jit_compiled_convolution_op, _jit_compiled_convolution_op, _jit_compiled_convolution_op, _jit_compiled_convolution_op while saving (showing 5 of 63). These functions will not be directly callable after loading.\n"
     ]
    },
    {
     "name": "stdout",
     "output_type": "stream",
     "text": [
      "INFO:tensorflow:Assets written to: ./data/ckpts/models/0/gan_modified/assets\n"
     ]
    },
    {
     "name": "stderr",
     "output_type": "stream",
     "text": [
      "INFO:tensorflow:Assets written to: ./data/ckpts/models/0/gan_modified/assets\n"
     ]
    }
   ],
   "source": [
    "new_model.save(modelpath)"
   ]
  },
  {
   "cell_type": "code",
   "execution_count": null,
   "id": "92070413-daba-4c88-a26e-b28f5bd2e8d9",
   "metadata": {},
   "outputs": [],
   "source": [
    "img = np.expand_dims(plt.imread('D:/Gerasimos/Toponym_Recognition/MapTD_General/MapTD_TF2/data/general_dataset/images/D5005-5028149.tiff'), axis=0)\n",
    "img = img[:, :6144, :7168, :]\n",
    "img.shape\n",
    "#img = center_crop(img, crop_shape=(2560, 2560))\n",
    "p = model(img, training=False)"
   ]
  },
  {
   "cell_type": "code",
   "execution_count": null,
   "id": "ca8a4660-a59b-4826-8aec-387a580cbf34",
   "metadata": {},
   "outputs": [],
   "source": [
    "plt.imshow(np.where(p[0][0] > 0.8, 1, 0), cmap='gray')\n",
    "plt.show()"
   ]
  },
  {
   "cell_type": "code",
   "execution_count": null,
   "id": "cdc337d3-6460-4486-a40e-e74129d03fc3",
   "metadata": {},
   "outputs": [],
   "source": [
    "fig, ax = plt.subplots(1, 2, dpi=500)\n",
    "ax[0].imshow(np.where(p[0][0] > 0.8, 1, 0), cmap='gray')\n",
    "plt.show()"
   ]
  },
  {
   "cell_type": "code",
   "execution_count": null,
   "id": "03a7f906-3464-467c-90e4-a0e4b73acc27",
   "metadata": {},
   "outputs": [],
   "source": []
  }
 ],
 "metadata": {
  "kernelspec": {
   "display_name": "deepenv",
   "language": "python",
   "name": "deepenv"
  },
  "language_info": {
   "codemirror_mode": {
    "name": "ipython",
    "version": 3
   },
   "file_extension": ".py",
   "mimetype": "text/x-python",
   "name": "python",
   "nbconvert_exporter": "python",
   "pygments_lexer": "ipython3",
   "version": "3.10.4"
  }
 },
 "nbformat": 4,
 "nbformat_minor": 5
}
