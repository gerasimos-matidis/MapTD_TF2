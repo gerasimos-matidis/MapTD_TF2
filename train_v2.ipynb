{
 "cells": [
  {
   "cell_type": "code",
   "execution_count": null,
   "id": "77b952e7-3166-4908-a0b7-bb8c68e6250b",
   "metadata": {},
   "outputs": [],
   "source": [
    "import tensorflow as tf\n",
    "import numpy as np\n",
    "import matplotlib.pyplot as plt\n",
    "\n",
    "from maptd_model import maptd_model\n",
    "from pipeline_v2 import get_dataset"
   ]
  },
  {
   "cell_type": "code",
   "execution_count": null,
   "id": "6013aab9-96be-4ba8-94c8-6bdf84416d26",
   "metadata": {},
   "outputs": [],
   "source": [
    "TILE_SIZE = 512\n",
    "BATCH_SIZE = 1\n",
    "TRAINING_STEPS = 2000\n",
    "img_dir = 'D:/Gerasimos/Toponym_Recognition/MapTD_General/MapTD/data/general_dataset/images'\n",
    "json_dir = 'D:/Gerasimos/Toponym_Recognition/MapTD_General/MapTD/data/general_dataset/json'"
   ]
  },
  {
   "cell_type": "code",
   "execution_count": null,
   "id": "2ab55732-6226-45d9-a9b9-5097afc6eda3",
   "metadata": {},
   "outputs": [],
   "source": [
    "def dice_coefficient( y_true_cls, y_pred_cls, training_mask):\n",
    "    \"\"\"\n",
    "    Compute Dice loss from Sorensen-Dice coefficient. See Eq. (1) Weinman et al.\n",
    "    (ICDAR 2019) and Milletari et al. (3DV 2016).\n",
    "\n",
    "    Parameters\n",
    "      y_true_cls   : binary ground truth score map (1==text, 0==non-text), \n",
    "                       [batch_size, tile_size/4, tile_size/4, 1]\n",
    "      y_pred_cls   : predicted score map in range (0,1), same size as y_true_cls\n",
    "      training_mask: binary tensor to indicate which locations should be included \n",
    "                       in the calculation, same size as y_true_cls\n",
    "    Returns\n",
    "      loss: scalar tensor between 0 and 1\n",
    "    \"\"\"\n",
    "    eps = 1e-5 # added for numerical stability\n",
    "    intersection = tf.math.reduce_sum(y_true_cls * y_pred_cls * training_mask)\n",
    "    union = tf.math.reduce_sum( tf.square(y_true_cls) * training_mask) + \\\n",
    "            tf.math.reduce_sum( tf.square(y_pred_cls) * training_mask) + eps\n",
    "    loss = 1. - (2 * intersection / union)\n",
    "    #tf.summary.scalar('classification_dice_loss', loss, family='train/losses')\n",
    "    return loss"
   ]
  },
  {
   "cell_type": "code",
   "execution_count": null,
   "id": "02844553-52d3-498f-8841-41f781da8b6f",
   "metadata": {},
   "outputs": [],
   "source": [
    "def calculate_loss(y_true_cls, y_pred_cls,\n",
    "         y_true_geo, y_pred_geo,\n",
    "         training_mask):\n",
    "    # NOTE: Gerasimos changed the name of the function from 'loss' to 'calculate_loss\n",
    "    '''\n",
    "    Compute total loss as the weighted sum of score loss (given by a\n",
    "    Dice loss), rbox loss (defined as an IoU loss), and angle loss\n",
    "    (i.e., cosine loss).  See Eq. (6) in Weinman et al. (ICDAR 2019).\n",
    "\n",
    "    Parameters\n",
    "     y_true_cls   : binary ground truth score map (1==text, 0==non-text), \n",
    "                    [batch_size,tile_size/4,tile_size/4, 1]\n",
    "     y_pred_cls   : predicted score map in range (0,1), same size as y_true_cls\n",
    "     y_true_geo   : ground truth box geometry map with shape \n",
    "                      [batch_size,tile_size/4,tile_size/4, 5]\n",
    "     y_pred_geo   : predicted box geometry map, same size as y_true_geo\n",
    "     training_mask: binary tensor to indicate which locations should be included \n",
    "                      in loss the calculations, same size as y_true_cls\n",
    "\n",
    "    Returns\n",
    "     total_loss: a scalar\n",
    "\n",
    "    '''\n",
    "    classification_loss = dice_coefficient(y_true_cls, y_pred_cls, training_mask)\n",
    "    # scale classification loss to match the iou loss part\n",
    "    classification_loss *= 0.01\n",
    "\n",
    "    # d1 -> top, d2->right, d3->bottom, d4->left\n",
    "    d1_gt, d2_gt, d3_gt, d4_gt, theta_gt = tf.split(\n",
    "        value=y_true_geo,\n",
    "        num_or_size_splits=5,\n",
    "        axis=3)\n",
    "    \n",
    "    d1_pred, d2_pred, d3_pred, d4_pred, theta_pred = tf.split(\n",
    "        value=y_pred_geo,\n",
    "        num_or_size_splits=5,\n",
    "        axis=3)\n",
    "    \n",
    "    area_gt = (d1_gt + d3_gt) * (d2_gt + d4_gt)\n",
    "    area_pred = (d1_pred + d3_pred) * (d2_pred + d4_pred)\n",
    "    \n",
    "    w_union = tf.math.minimum(d2_gt, d2_pred) + tf.math.minimum(d4_gt, d4_pred)\n",
    "    h_union = tf.math.minimum(d1_gt, d1_pred) + tf.math.minimum(d3_gt, d3_pred)\n",
    "    \n",
    "    area_intersect = w_union * h_union\n",
    "    area_union = area_gt + area_pred - area_intersect\n",
    "    \n",
    "    L_AABB = -tf.math.log((area_intersect + 1.0)/(area_union + 1.0))\n",
    "    L_theta = 1 - tf.math.cos(theta_pred - theta_gt)\n",
    "    \n",
    "    #tf.summary.scalar('geometry_AABB',\n",
    "                      #tf.reduce_mean(L_AABB * y_true_cls * training_mask),\n",
    "                      #family='train/losses')\n",
    "    #tf.summary.scalar('geometry_theta',\n",
    "                      #tf.reduce_mean(L_theta * y_true_cls * training_mask),\n",
    "                      #family='train/losses')\n",
    "    \n",
    "    L_g = L_AABB + 20 * L_theta\n",
    "\n",
    "    total_loss = tf.math.reduce_mean(L_g * y_true_cls * training_mask) \\\n",
    "                 + classification_loss\n",
    "\n",
    "    return total_loss"
   ]
  },
  {
   "cell_type": "code",
   "execution_count": null,
   "id": "6e81b308-fa9a-42b8-b77d-217a371f32cc",
   "metadata": {},
   "outputs": [],
   "source": [
    "def show_score_map(tile, gt_score_map, pred_score_map, threshold=None):\n",
    "    pred_score_map = np.where(pred_score_map > threshold, 1, 0)\n",
    "    COLORMAP = 'gray'\n",
    "    fig, ax = plt.subplots(1, 3)\n",
    "    ax[0].imshow(np.squeeze(tf.cast(tile, tf.uint8)))\n",
    "    ax[1].imshow(np.squeeze(gt_score_map), cmap=COLORMAP)\n",
    "    ax[2].imshow(np.squeeze(pred_score_map), cmap=COLORMAP)\n",
    "    plt.show()\n",
    "    \n",
    "    "
   ]
  },
  {
   "cell_type": "code",
   "execution_count": null,
   "id": "000e7928-9dc3-4ce3-9f72-ce3a4c71d353",
   "metadata": {},
   "outputs": [],
   "source": [
    "ds = get_dataset(img_dir, json_dir, '*', tile_size=TILE_SIZE, batch_size=BATCH_SIZE)"
   ]
  },
  {
   "cell_type": "code",
   "execution_count": null,
   "id": "eef73ab9-dbf0-4b8a-bb0a-7a38976b4ba0",
   "metadata": {},
   "outputs": [],
   "source": [
    "model = maptd_model(input_size=TILE_SIZE)\n",
    "optimizer = tf.keras.optimizers.Adam(learning_rate=0.01)\n",
    "loss_history = []\n",
    "for step, (tile, score_map, geo_map, training_mask) in \\\n",
    "            ds.repeat().take(TRAINING_STEPS).enumerate():\n",
    "    with tf.GradientTape() as tape:\n",
    "        pred_score_map, pred_geo_map = model(tile, training=True)\n",
    "        \n",
    "        loss = calculate_loss(score_map, pred_score_map, geo_map, \n",
    "                              pred_geo_map, training_mask)\n",
    "        loss_history.append(loss)\n",
    "        \n",
    "        grads = tape.gradient(loss, model.trainable_variables)\n",
    "        optimizer.apply_gradients(zip(grads, model.trainable_variables))\n",
    "        \n",
    "        if ((step.numpy() + 1) % 5) == 0:\n",
    "            show_score_map(tile, score_map, pred_score_map, threshold=0.8)\n",
    "        \n",
    "\n",
    "        \n",
    "        "
   ]
  },
  {
   "cell_type": "code",
   "execution_count": null,
   "id": "1f57f697-fb93-4dd4-906e-8b8905d397c9",
   "metadata": {},
   "outputs": [],
   "source": [
    "loss = calculate_loss(score_maps, pred_score_map, geo_maps, pred_geo_map, training_mask)"
   ]
  },
  {
   "cell_type": "code",
   "execution_count": null,
   "id": "c46f3e3b-3a8b-4502-a13f-d7c3d00b395e",
   "metadata": {},
   "outputs": [],
   "source": [
    "score_maps.shape"
   ]
  },
  {
   "cell_type": "code",
   "execution_count": null,
   "id": "1db7f22f-df36-43cf-bfb3-ffdf4262b80f",
   "metadata": {},
   "outputs": [],
   "source": [
    "step.numpy()"
   ]
  },
  {
   "cell_type": "code",
   "execution_count": null,
   "id": "e38ccb8d-7ce6-42c7-852a-3bd5b9f509d2",
   "metadata": {},
   "outputs": [],
   "source": []
  }
 ],
 "metadata": {
  "kernelspec": {
   "display_name": "deepenv",
   "language": "python",
   "name": "deepenv"
  },
  "language_info": {
   "codemirror_mode": {
    "name": "ipython",
    "version": 3
   },
   "file_extension": ".py",
   "mimetype": "text/x-python",
   "name": "python",
   "nbconvert_exporter": "python",
   "pygments_lexer": "ipython3",
   "version": "3.10.6"
  }
 },
 "nbformat": 4,
 "nbformat_minor": 5
}
