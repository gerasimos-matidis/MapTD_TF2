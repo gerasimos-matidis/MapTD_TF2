{
 "cells": [
  {
   "cell_type": "code",
   "execution_count": null,
   "id": "27bb9aac-bc36-4cb0-9fe3-1ddf56364405",
   "metadata": {},
   "outputs": [],
   "source": [
    "# TODO : define the optimizer, the checkpoints, the logs"
   ]
  },
  {
   "cell_type": "code",
   "execution_count": null,
   "id": "77b952e7-3166-4908-a0b7-bb8c68e6250b",
   "metadata": {},
   "outputs": [],
   "source": [
    "import tensorflow as tf\n",
    "import numpy as np\n",
    "import matplotlib.pyplot as plt\n",
    "import os\n",
    "\n",
    "from losses import total_loss\n",
    "from maptd_model import maptd_model\n",
    "from pipeline_v2 import get_dataset"
   ]
  },
  {
   "cell_type": "code",
   "execution_count": null,
   "id": "6013aab9-96be-4ba8-94c8-6bdf84416d26",
   "metadata": {},
   "outputs": [],
   "source": [
    "TILE_SIZE = 512\n",
    "BATCH_SIZE = 16\n",
    "TRAINING_STEPS = 5000\n",
    "img_dir = 'D:/Gerasimos/Toponym_Recognition/MapTD_General/MapTD/data/general_dataset/images'\n",
    "json_dir = 'D:/Gerasimos/Toponym_Recognition/MapTD_General/MapTD/data/general_dataset/json'"
   ]
  },
  {
   "cell_type": "code",
   "execution_count": null,
   "id": "6e81b308-fa9a-42b8-b77d-217a371f32cc",
   "metadata": {},
   "outputs": [],
   "source": [
    "def show_score_map(tile, gt_score_map, pred_score_map, threshold=None):\n",
    "    pred_score_map = np.where(pred_score_map > threshold, 1, 0)\n",
    "    COLORMAP = 'gray'\n",
    "    fig, ax = plt.subplots(1, 3)\n",
    "    ax[0].imshow(np.squeeze(tf.cast(tile, tf.uint8)))\n",
    "    ax[1].imshow(np.squeeze(gt_score_map), cmap=COLORMAP)\n",
    "    ax[2].imshow(np.squeeze(pred_score_map), cmap=COLORMAP)\n",
    "    plt.show()"
   ]
  },
  {
   "cell_type": "code",
   "execution_count": null,
   "id": "4adb730e-70a9-430a-b208-9563c265a7c3",
   "metadata": {},
   "outputs": [],
   "source": [
    "def train_step(model, tile, step):\n",
    "    with tf.GradientTape() as tape:\n",
    "        pred_score_map, pred_geo_map = model(tile, training=True)\n",
    "\n",
    "        loss = total_loss(score_map, pred_score_map, geo_map, \n",
    "                              pred_geo_map, training_mask)\n",
    "        loss_history.append(loss)\n",
    "\n",
    "        grads = tape.gradient(loss, model.trainable_variables)\n",
    "        optimizer.apply_gradients(zip(grads, model.trainable_variables))"
   ]
  },
  {
   "cell_type": "code",
   "execution_count": null,
   "id": "000e7928-9dc3-4ce3-9f72-ce3a4c71d353",
   "metadata": {},
   "outputs": [],
   "source": [
    "ds = get_dataset(img_dir, json_dir, '*', tile_size=TILE_SIZE, batch_size=BATCH_SIZE)"
   ]
  },
  {
   "cell_type": "code",
   "execution_count": null,
   "id": "eef73ab9-dbf0-4b8a-bb0a-7a38976b4ba0",
   "metadata": {},
   "outputs": [],
   "source": [
    "maptd = maptd_model(input_size=TILE_SIZE)\n",
    "models_dir = './models'\n",
    "optimizer = tf.keras.optimizers.Adam(learning_rate=0.01)\n",
    "loss_history = []\n",
    "for step, (tile, score_map, geo_map, training_mask) in \\\n",
    "            ds.repeat().take(TRAINING_STEPS).enumerate():\n",
    "    \n",
    "    train_step(maptd, tile, step)\n",
    "        \n",
    "    #if step == 0:\n",
    "        #model_path = os.path.join(models_dir, f'model_at_step_{step.numpy() + 1}')\n",
    "        #model.save(model_path)\n",
    "\n",
    "    #if ((step + 1) % 10000) == 0:\n",
    "        #show_score_map(tile[5], score_map[5], pred_score_map[5], threshold=0.8)\n",
    "        #model_path = os.path.join(models_dir, f'model_at_step{step.numpy()}')\n",
    "        #model.save(model_path)"
   ]
  },
  {
   "cell_type": "code",
   "execution_count": null,
   "id": "e4e49615-8c07-4b38-8c31-4fb0a994aeac",
   "metadata": {},
   "outputs": [],
   "source": [
    "test_ds = get_dataset(img_dir, json_dir, '*', tile_size=TILE_SIZE, batch_size=1)"
   ]
  },
  {
   "cell_type": "code",
   "execution_count": null,
   "id": "e9669a9b-b507-476e-8562-8cbfefc62e9c",
   "metadata": {},
   "outputs": [],
   "source": [
    "modelpath = 'D:/Gerasimos/Toponym_Recognition/MapTD_General/MapTD_TF2/models/model_at_step109999'\n",
    "\n",
    "model = tf.keras.models.load_model(modelpath)\n",
    "models_dir = './models'\n",
    "TEST_STEPS = 50\n",
    "for step, (tile, score_map, geo_map, training_mask) in test_ds.repeat().take(TEST_STEPS).enumerate():\n",
    "    pred_score_map, pred_geo_map = model(tile, training=False)\n",
    "    show_score_map(tile, score_map, pred_score_map, threshold=0.8)"
   ]
  },
  {
   "cell_type": "code",
   "execution_count": null,
   "id": "62e94952-8d4f-417b-b9cc-d9d5e2d145aa",
   "metadata": {},
   "outputs": [],
   "source": []
  }
 ],
 "metadata": {
  "kernelspec": {
   "display_name": "deepenv",
   "language": "python",
   "name": "deepenv"
  },
  "language_info": {
   "codemirror_mode": {
    "name": "ipython",
    "version": 3
   },
   "file_extension": ".py",
   "mimetype": "text/x-python",
   "name": "python",
   "nbconvert_exporter": "python",
   "pygments_lexer": "ipython3",
   "version": "3.10.4"
  }
 },
 "nbformat": 4,
 "nbformat_minor": 5
}
