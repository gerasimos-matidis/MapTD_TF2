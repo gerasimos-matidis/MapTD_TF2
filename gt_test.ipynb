{
 "cells": [
  {
   "cell_type": "code",
   "execution_count": 2,
   "id": "bb6d575f",
   "metadata": {},
   "outputs": [],
   "source": [
    "from data_tools import parse_boxes_from_json\n",
    "from visualize import load_boxes\n",
    "import numpy as np\n",
    "import matplotlib.pyplot as plt\n",
    "import geopandas as gpd"
   ]
  },
  {
   "cell_type": "code",
   "execution_count": 4,
   "id": "7973ec81",
   "metadata": {},
   "outputs": [],
   "source": [
    "txt_path = 'D:/Gerasimos/Toponym_Recognition/MapTD_General/MapTD/data/general_dataset/txt/D0041-5370006.txt'\n",
    "json_path = 'D:/Gerasimos/Toponym_Recognition/MapTD_General/MapTD/data/general_dataset/json/D0041-5370006.json'\n",
    "im_path = 'D:/Gerasimos/Toponym_Recognition/MapTD_General/MapTD/data/general_dataset/images/D0041-5370006.tiff'"
   ]
  },
  {
   "cell_type": "code",
   "execution_count": null,
   "id": "765c202e",
   "metadata": {},
   "outputs": [],
   "source": [
    "points, polygons, labels = parse_boxes_from_json(json_path)"
   ]
  },
  {
   "cell_type": "code",
   "execution_count": null,
   "id": "e9d75d01",
   "metadata": {},
   "outputs": [],
   "source": [
    "polygons_cords = []\n",
    "for p in polygons:\n",
    "    poly = np.transpose(np.array(p.boundary.xy))\n",
    "    polygons.append(poly)"
   ]
  },
  {
   "cell_type": "code",
   "execution_count": null,
   "id": "3c022804",
   "metadata": {},
   "outputs": [],
   "source": [
    "im = plt.imread(im_path)\n",
    "fig, ax = plt.subplots()\n",
    "ax.imshow(im)\n",
    "#poly = gpd.GeoSeries(polygons)\n",
    "p = poly.boundary\n",
    "ax.plot(p)\n",
    "#poly.plot()\n",
    "plt.show()"
   ]
  },
  {
   "cell_type": "code",
   "execution_count": 1,
   "id": "ae260780",
   "metadata": {},
   "outputs": [
    {
     "ename": "NameError",
     "evalue": "name 'polygons' is not defined",
     "output_type": "error",
     "traceback": [
      "\u001b[1;31m---------------------------------------------------------------------------\u001b[0m",
      "\u001b[1;31mNameError\u001b[0m                                 Traceback (most recent call last)",
      "Input \u001b[1;32mIn [1]\u001b[0m, in \u001b[0;36m<cell line: 1>\u001b[1;34m()\u001b[0m\n\u001b[1;32m----> 1\u001b[0m \u001b[38;5;28mtype\u001b[39m(\u001b[43mpolygons\u001b[49m[\u001b[38;5;241m0\u001b[39m])\n",
      "\u001b[1;31mNameError\u001b[0m: name 'polygons' is not defined"
     ]
    }
   ],
   "source": [
    "type(polygons[0])"
   ]
  },
  {
   "cell_type": "code",
   "execution_count": 6,
   "id": "d56d504b",
   "metadata": {},
   "outputs": [],
   "source": [
    "polygons = load_boxes(txt_path)"
   ]
  },
  {
   "cell_type": "code",
   "execution_count": 12,
   "id": "eacf9810",
   "metadata": {},
   "outputs": [
    {
     "data": {
      "text/plain": [
       "[[344.0, 801.0], [404.0, 834.0], [416.65, 811.0], [356.65, 778.0]]"
      ]
     },
     "execution_count": 12,
     "metadata": {},
     "output_type": "execute_result"
    }
   ],
   "source": [
    "polygons[0]"
   ]
  },
  {
   "cell_type": "code",
   "execution_count": null,
   "id": "8709ab62",
   "metadata": {},
   "outputs": [],
   "source": []
  }
 ],
 "metadata": {
  "kernelspec": {
   "display_name": "deepenv",
   "language": "python",
   "name": "deepenv"
  },
  "language_info": {
   "codemirror_mode": {
    "name": "ipython",
    "version": 3
   },
   "file_extension": ".py",
   "mimetype": "text/x-python",
   "name": "python",
   "nbconvert_exporter": "python",
   "pygments_lexer": "ipython3",
   "version": "3.10.6"
  },
  "vscode": {
   "interpreter": {
    "hash": "f1d8acd67561793d0d4711492c21aa45930fc46ff826a8c13f35cfa9289d69f6"
   }
  }
 },
 "nbformat": 4,
 "nbformat_minor": 5
}
