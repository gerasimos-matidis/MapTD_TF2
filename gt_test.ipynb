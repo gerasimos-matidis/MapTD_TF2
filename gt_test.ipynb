{
 "cells": [
  {
   "cell_type": "code",
   "execution_count": 1,
   "id": "bb6d575f",
   "metadata": {},
   "outputs": [],
   "source": [
    "from data_tools import parse_boxes_from_json\n",
    "import numpy as np\n",
    "import matplotlib.pyplot as plt\n",
    "import geopandas as gpd"
   ]
  },
  {
   "cell_type": "code",
   "execution_count": 2,
   "id": "7973ec81",
   "metadata": {},
   "outputs": [],
   "source": [
    "json_path = 'D:/Gerasimos/Toponym_Recognition/MapTD_General/MapTD/data/general_dataset/json/D0041-5370006.json'\n",
    "im_path = 'D:/Gerasimos/Toponym_Recognition/MapTD_General/MapTD/data/general_dataset/images/D0041-5370006.tiff'\n",
    "\n",
    "points, polygons, labels = parse_boxes_from_json(json_path)"
   ]
  },
  {
   "cell_type": "code",
   "execution_count": null,
   "id": "e9d75d01",
   "metadata": {},
   "outputs": [],
   "source": [
    "polygons_cords = []\n",
    "for p in polygons:\n",
    "    poly = np.transpose(np.array(p.boundary.xy))\n",
    "    polygons.append(poly)"
   ]
  },
  {
   "cell_type": "code",
   "execution_count": null,
   "id": "3c022804",
   "metadata": {},
   "outputs": [],
   "source": [
    "im = plt.imread(im_path)\n",
    "fig, ax = plt.subplots()\n",
    "ax.imshow(im)\n",
    "#poly = gpd.GeoSeries(polygons)\n",
    "p = poly.boundary\n",
    "ax.plot(p)\n",
    "#poly.plot()\n",
    "plt.show()"
   ]
  },
  {
   "cell_type": "code",
   "execution_count": null,
   "id": "ae260780",
   "metadata": {},
   "outputs": [],
   "source": [
    "type(polygons[0])"
   ]
  },
  {
   "cell_type": "code",
   "execution_count": null,
   "id": "d56d504b",
   "metadata": {},
   "outputs": [],
   "source": [
    "p.boundary"
   ]
  },
  {
   "cell_type": "code",
   "execution_count": null,
   "id": "eacf9810",
   "metadata": {},
   "outputs": [],
   "source": []
  }
 ],
 "metadata": {
  "kernelspec": {
   "display_name": "deepenv",
   "language": "python",
   "name": "deepenv"
  },
  "language_info": {
   "codemirror_mode": {
    "name": "ipython",
    "version": 3
   },
   "file_extension": ".py",
   "mimetype": "text/x-python",
   "name": "python",
   "nbconvert_exporter": "python",
   "pygments_lexer": "ipython3",
   "version": "3.10.6"
  }
 },
 "nbformat": 4,
 "nbformat_minor": 5
}
