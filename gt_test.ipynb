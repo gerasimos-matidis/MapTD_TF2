{
 "cells": [
  {
   "cell_type": "code",
   "execution_count": 2,
   "id": "bb6d575f",
   "metadata": {},
   "outputs": [],
   "source": [
    "from data_tools import parse_boxes_from_json\n",
    "from tiling import crop_ground_truths\n",
    "from targets import generate as gen\n",
    "from new_targets import generate as my_gen\n",
    "from visualize import render_boxes\n",
    "from shapely.geometry import Polygon\n",
    "import numpy as np\n",
    "import matplotlib.pyplot as plt\n",
    "from tkinter.filedialog import askopenfilename\n",
    "import cv2\n",
    "\n",
    "%matplotlib inline"
   ]
  },
  {
   "cell_type": "code",
   "execution_count": 3,
   "id": "7973ec81",
   "metadata": {},
   "outputs": [],
   "source": [
    "txt_path = 'D:/Gerasimos/Toponym_Recognition/MapTD_General/MapTD/data/general_dataset/txt/D0042-1070007.txt'\n",
    "json_path = 'D:/Gerasimos/Toponym_Recognition/MapTD_General/MapTD/data/general_dataset/json/D0042-1070007.json'\n",
    "img_path = 'D:/Gerasimos/Toponym_Recognition/MapTD_General/MapTD/data/general_dataset/images/D0042-1070007.tiff'\n",
    "\n",
    "img = plt.imread(img_path)"
   ]
  },
  {
   "cell_type": "code",
   "execution_count": 4,
   "id": "418c0d09",
   "metadata": {
    "scrolled": true,
    "tags": []
   },
   "outputs": [
    {
     "name": "stdout",
     "output_type": "stream",
     "text": [
      "(4, 2, 641)\n"
     ]
    }
   ],
   "source": [
    "#json_dir = 'D:/Gerasimos/Toponym_Recognition/MapTD_General/MapTD/data/general_dataset/json'\n",
    "#json_path = askopenfilename(initialdir=json_dir)\n",
    "points, polygons, labels = parse_boxes_from_json(json_path)\n",
    "print(points.shape)"
   ]
  },
  {
   "cell_type": "code",
   "execution_count": null,
   "id": "16c758a1-a1c6-4504-848c-cab113648dbd",
   "metadata": {},
   "outputs": [],
   "source": [
    "score_map, _, tr_mask = gen(img.shape[:2], points)"
   ]
  },
  {
   "cell_type": "code",
   "execution_count": null,
   "id": "26917615-c898-4f4c-a0e5-2773e114aff9",
   "metadata": {},
   "outputs": [
    {
     "data": {
      "text/plain": [
       "(1435, 1633, 1)"
      ]
     },
     "execution_count": 7,
     "metadata": {},
     "output_type": "execute_result"
    }
   ],
   "source": [
    "tr_mask.shape"
   ]
  },
  {
   "cell_type": "code",
   "execution_count": 18,
   "id": "94759c9b-d341-4cc4-bb11-429909d3496b",
   "metadata": {},
   "outputs": [
    {
     "data": {
      "image/png": "[encoded data removed]",
      "text/plain": [
       "<Figure size 640x480 with 1 Axes>"
      ]
     },
     "metadata": {},
     "output_type": "display_data"
    }
   ],
   "source": [
    "plt.imshow(tr_mask[100:300, 1300:1500], cmap='Greys_r')\n",
    "plt.show()"
   ]
  },
  {
   "cell_type": "code",
   "execution_count": 7,
   "id": "b14bd6dc-899b-480e-9f46-2666617592c5",
   "metadata": {},
   "outputs": [],
   "source": [
    "new_sc, tr_new = my_gen(img.shape[:2], np.transpose(points, (2, 0, 1)))"
   ]
  },
  {
   "cell_type": "code",
   "execution_count": 19,
   "id": "057514da-e7ce-460d-9af5-7833ae2c2b07",
   "metadata": {},
   "outputs": [
    {
     "data": {
      "image/png": "[encoded data removed]",
      "text/plain": [
       "<Figure size 640x480 with 1 Axes>"
      ]
     },
     "metadata": {},
     "output_type": "display_data"
    }
   ],
   "source": [
    "plt.imshow(tr_new[100:300, 1300:1500], cmap='Greys_r')\n",
    "plt.show()"
   ]
  },
  {
   "cell_type": "code",
   "execution_count": 12,
   "id": "eb4a2e31-e161-4846-9bb5-993b658d5e4e",
   "metadata": {},
   "outputs": [
    {
     "data": {
      "text/plain": [
       "False"
      ]
     },
     "execution_count": 11,
     "metadata": {},
     "output_type": "execute_result"
    }
   ],
   "source": [
    "np.array_equal(tr_mask, tr_new)"
   ]
  },
  {
   "cell_type": "code",
   "execution_count": 17,
   "id": "e280642c-24ed-4638-9901-e561dff27049",
   "metadata": {},
   "outputs": [
    {
     "data": {
      "text/plain": [
       "1406"
      ]
     },
     "execution_count": 17,
     "metadata": {},
     "output_type": "execute_result"
    }
   ],
   "source": [
    "np.count_nonzero(tr_mask!=tr_new)"
   ]
  },
  {
   "cell_type": "code",
   "execution_count": null,
   "id": "3b1fc38d",
   "metadata": {},
   "outputs": [],
   "source": [
    "img = cv2.imread(img_path, cv2.IMREAD_UNCHANGED)\n",
    "k = cv2.fillPoly(img, pts=points.astype(np.int32), color=(0, 0, 0))\n",
    "resized_img = cv2.resize(img, (1280, 720)) # NOTE: Resize image to fit in the screen. Otherwise, I must find how to enable the cv2.window_normal option"
   ]
  },
  {
   "cell_type": "code",
   "execution_count": null,
   "id": "05011483",
   "metadata": {},
   "outputs": [],
   "source": [
    "cv2.imshow('a name', resized_img)\n",
    "cv2.waitKey(0)\n",
    "cv2.destroyAllWindows()"
   ]
  },
  {
   "cell_type": "code",
   "execution_count": null,
   "id": "54c31a2e-b589-499d-962f-91fc61ff3659",
   "metadata": {},
   "outputs": [],
   "source": []
  }
 ],
 "metadata": {
  "kernelspec": {
   "display_name": "deepenv",
   "language": "python",
   "name": "deepenv"
  },
  "language_info": {
   "codemirror_mode": {
    "name": "ipython",
    "version": 3
   },
   "file_extension": ".py",
   "mimetype": "text/x-python",
   "name": "python",
   "nbconvert_exporter": "python",
   "pygments_lexer": "ipython3",
   "version": "3.10.6"
  },
  "vscode": {
   "interpreter": {
    "hash": "f1d8acd67561793d0d4711492c21aa45930fc46ff826a8c13f35cfa9289d69f6"
   }
  }
 },
 "nbformat": 4,
 "nbformat_minor": 5
}
