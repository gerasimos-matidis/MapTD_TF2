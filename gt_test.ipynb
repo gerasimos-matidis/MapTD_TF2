{
 "cells": [
  {
   "cell_type": "code",
   "execution_count": 1,
   "id": "bb6d575f",
   "metadata": {},
   "outputs": [],
   "source": [
    "from data_tools import parse_boxes_from_json\n",
    "from tiling import crop_ground_truths\n",
    "from targets import shrink_rect, generate\n",
    "from visualize import render_boxes\n",
    "from shapely.geometry import Polygon\n",
    "import numpy as np\n",
    "import matplotlib.pyplot as plt\n",
    "import geopandas as gpd\n",
    "import json\n",
    "from tkinter.filedialog import askopenfilename\n",
    "import cv2\n",
    "\n",
    "%matplotlib inline"
   ]
  },
  {
   "cell_type": "code",
   "execution_count": 2,
   "id": "62444477-a121-4008-86e8-195a8edc6c93",
   "metadata": {},
   "outputs": [],
   "source": [
    "IMAGE_SIZE = (512, 512)"
   ]
  },
  {
   "cell_type": "code",
   "execution_count": 3,
   "id": "7973ec81",
   "metadata": {},
   "outputs": [],
   "source": [
    "txt_path = 'D:/Gerasimos/Toponym_Recognition/MapTD_General/MapTD/data/general_dataset/txt/D0042-1070007.txt'\n",
    "json_path = 'D:/Gerasimos/Toponym_Recognition/MapTD_General/MapTD/data/general_dataset/json/D0042-1070007.json'\n",
    "img_path = 'D:/Gerasimos/Toponym_Recognition/MapTD_General/MapTD/data/general_dataset/images/D0042-1070007.tiff'"
   ]
  },
  {
   "cell_type": "code",
   "execution_count": null,
   "id": "418c0d09",
   "metadata": {
    "tags": []
   },
   "outputs": [],
   "source": [
    "#json_dir = 'D:/Gerasimos/Toponym_Recognition/MapTD_General/MapTD/data/general_dataset/json'\n",
    "#json_path = askopenfilename(initialdir=json_dir)\n",
    "points, polygons, labels = parse_boxes_from_json(json_path, slice_first=True)\n",
    "print(points.shape)"
   ]
  },
  {
   "cell_type": "code",
   "execution_count": null,
   "id": "3b1fc38d",
   "metadata": {},
   "outputs": [],
   "source": [
    "img = cv2.imread(img_path, cv2.IMREAD_UNCHANGED)\n",
    "k = cv2.fillPoly(img, pts=points.astype(np.int32), color=(0, 0, 0))\n",
    "resized_img = cv2.resize(img, (1280, 720)) # NOTE: Resize image to fit in the screen. Otherwise, I must find how to enable the cv2.window_normal option"
   ]
  },
  {
   "cell_type": "code",
   "execution_count": null,
   "id": "05011483",
   "metadata": {},
   "outputs": [],
   "source": [
    "cv2.imshow('a name', resized_img)\n",
    "cv2.waitKey(0)\n",
    "cv2.destroyAllWindows()"
   ]
  },
  {
   "cell_type": "code",
   "execution_count": 4,
   "id": "1f9d8eb7-5d61-4bbb-b83e-2929a7ac424f",
   "metadata": {},
   "outputs": [],
   "source": [
    "points_ch_last, _, _ =  parse_boxes_from_json(json_path)"
   ]
  },
  {
   "cell_type": "code",
   "execution_count": 5,
   "id": "16c758a1-a1c6-4504-848c-cab113648dbd",
   "metadata": {},
   "outputs": [
    {
     "name": "stdout",
     "output_type": "stream",
     "text": [
      "[[4880.9863   847.9519 ]\n",
      " [6064.082    834.22144]\n",
      " [6060.3506   512.69604]\n",
      " [4877.255    526.4265 ]]\n"
     ]
    }
   ],
   "source": [
    "score, rbox, training_mask = generate(IMAGE_SIZE, points_ch_last)"
   ]
  },
  {
   "cell_type": "code",
   "execution_count": null,
   "id": "d80ff82d-2828-4f36-b835-0fe93c90a832",
   "metadata": {},
   "outputs": [],
   "source": []
  }
 ],
 "metadata": {
  "kernelspec": {
   "display_name": "deepenv",
   "language": "python",
   "name": "deepenv"
  },
  "language_info": {
   "codemirror_mode": {
    "name": "ipython",
    "version": 3
   },
   "file_extension": ".py",
   "mimetype": "text/x-python",
   "name": "python",
   "nbconvert_exporter": "python",
   "pygments_lexer": "ipython3",
   "version": "3.10.6"
  },
  "vscode": {
   "interpreter": {
    "hash": "f1d8acd67561793d0d4711492c21aa45930fc46ff826a8c13f35cfa9289d69f6"
   }
  }
 },
 "nbformat": 4,
 "nbformat_minor": 5
}
